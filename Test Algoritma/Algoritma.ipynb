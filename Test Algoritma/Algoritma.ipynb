{
  "nbformat": 4,
  "nbformat_minor": 0,
  "metadata": {
    "colab": {
      "name": "Algoritma.ipynb",
      "provenance": []
    },
    "kernelspec": {
      "name": "python3",
      "display_name": "Python 3"
    },
    "language_info": {
      "name": "python"
    }
  },
  "cells": [
    {
      "cell_type": "markdown",
      "source": [
        "1. Terdapat string \"NEGIE1\", silahkan reverse alphabet nya dengan angka tetap diakhir kata Hasil = \"EIGEN1\""
      ],
      "metadata": {
        "id": "rzEjR7zy_tb3"
      }
    },
    {
      "cell_type": "code",
      "source": [
        "def reverse(string):\n",
        "  arr = []\n",
        "  for i in range(len(string)-2, -1, -1):\n",
        "    arr.append(string[i])\n",
        "  arr.append(string[-1:])\n",
        "  listToStr = ''.join([str(elem) for elem in arr])\n",
        "  return listToStr\n",
        "print(reverse(\"NEGIE1\"))\n"
      ],
      "metadata": {
        "colab": {
          "base_uri": "https://localhost:8080/"
        },
        "id": "8U8fp9KG_ziz",
        "outputId": "60918810-589c-4559-ef5d-b25badbfefd9"
      },
      "execution_count": 8,
      "outputs": [
        {
          "output_type": "stream",
          "name": "stdout",
          "text": [
            "EIGEN1\n"
          ]
        }
      ]
    },
    {
      "cell_type": "markdown",
      "source": [
        "2. Diberikan contoh sebuah kalimat, silahkan cari kata terpanjang dari kalimat tersebut, jika ada kata dengan panjang yang sama silahkan ambil salah satu"
      ],
      "metadata": {
        "id": "4UQMdAYCBoKF"
      }
    },
    {
      "cell_type": "code",
      "source": [
        "def longestWord(string):\n",
        "  arr = string.split()\n",
        "  max = 0\n",
        "  word = \"\"\n",
        "  for i in arr:\n",
        "    if(len(i)>max):\n",
        "      max = len(i)\n",
        "      word = i\n",
        "  return word\n",
        "print(longestWord(\"Saya sangat senang mengerjakan soal algoritma\"))"
      ],
      "metadata": {
        "colab": {
          "base_uri": "https://localhost:8080/"
        },
        "id": "jO1YPvz0BuxD",
        "outputId": "77619f65-a27c-4768-a5da-b0f46b99c455"
      },
      "execution_count": 10,
      "outputs": [
        {
          "output_type": "stream",
          "name": "stdout",
          "text": [
            "mengerjakan\n"
          ]
        }
      ]
    },
    {
      "cell_type": "markdown",
      "source": [
        "3. Terdapat dua buah array yaitu array INPUT dan array QUERY, silahkan tentukan berapa kali kata dalam QUERY terdapat pada array INPUT"
      ],
      "metadata": {
        "id": "CtF4xPhjFIlj"
      }
    },
    {
      "cell_type": "code",
      "source": [
        "def showCount(INPUT, QUERY):\n",
        "  arr = []\n",
        "  for i in QUERY:\n",
        "    count = 0\n",
        "    for j in INPUT:\n",
        "      if(i==j):\n",
        "        count+=1\n",
        "    arr.append(count)\n",
        "  return arr\n",
        "INPUT = ['xc', 'dz', 'bbb', 'dz']  \n",
        "QUERY = ['bbb', 'ac', 'dz'] \n",
        "print(showCount(INPUT, QUERY))"
      ],
      "metadata": {
        "colab": {
          "base_uri": "https://localhost:8080/"
        },
        "id": "64RS4sRiFM3p",
        "outputId": "53a6a98a-f4c9-48f3-eee6-d878b66d1315"
      },
      "execution_count": 13,
      "outputs": [
        {
          "output_type": "stream",
          "name": "stdout",
          "text": [
            "[1, 0, 2]\n"
          ]
        }
      ]
    },
    {
      "cell_type": "markdown",
      "source": [
        "4. Silahkan cari hasil dari pengurangan dari jumlah diagonal sebuah matrik NxN"
      ],
      "metadata": {
        "id": "2u0k9aj0HizS"
      }
    },
    {
      "cell_type": "code",
      "source": [
        "def substractionDiagonal(arr):\n",
        "  indexLeft = 0\n",
        "  indexRight = len(arr)-1\n",
        "  countLeft = 0\n",
        "  countRight = 0\n",
        "  for i in range(len(arr)):\n",
        "    countLeft+=arr[i][indexLeft]\n",
        "    countRight+=arr[i][indexRight]\n",
        "    indexLeft+=1\n",
        "    indexRight-=1  \n",
        "  return countLeft-countRight\n",
        "Matrix = [[1, 2, 0], [4, 5, 6], [7, 8, 9]]\n",
        "print(substractionDiagonal(Matrix))"
      ],
      "metadata": {
        "colab": {
          "base_uri": "https://localhost:8080/"
        },
        "id": "iFrYf0yyHiT6",
        "outputId": "e47396df-8f0f-436b-ee80-dc2ebd68c9a0"
      },
      "execution_count": 17,
      "outputs": [
        {
          "output_type": "stream",
          "name": "stdout",
          "text": [
            "3\n"
          ]
        }
      ]
    }
  ]
}